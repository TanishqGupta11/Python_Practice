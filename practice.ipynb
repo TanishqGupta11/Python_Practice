{
 "cells": [
  {
   "cell_type": "markdown",
   "metadata": {},
   "source": [
    "### Intro to API calls in python\n",
    "\n",
    "200 - everything went okay and result has been returned\n",
    "301 - server is directing to different endpoint.\n",
    "401 - Server thinks you are not authorized.\n",
    "400 - Bad Request\n",
    "403 - the resource you are trying to access is forbidden\n",
    "404 - the resource you tried to access wasn't found on the server"
   ]
  },
  {
   "cell_type": "code",
   "execution_count": 2,
   "metadata": {},
   "outputs": [
    {
     "name": "stdout",
     "output_type": "stream",
     "text": [
      "200\n",
      "<class 'bytes'> b'{\"iss_position\": {\"longitude\": \"-127.0807\", \"latitude\": \"-4.8503\"}, \"message\": \"success\", \"timestamp\": 1655980147}'\n",
      "<bound method Response.json of <Response [200]>>\n",
      "<class 'dict'>\n",
      "iss_position {'longitude': '-127.0807', 'latitude': '-4.8503'}\n",
      "longitude -127.0807\n",
      "latitude -4.8503\n",
      "message success\n",
      "timestamp 1655980147\n"
     ]
    }
   ],
   "source": [
    "import requests\n",
    "import json\n",
    "\n",
    "response = requests.get(\"http://api.open-notify.org/iss-now.json\")\n",
    "print(response.status_code)\n",
    "print(type(response.content),response.content)\n",
    "\n",
    "print(response.json)\n",
    "json_response = response.json()\n",
    "print(type(json_response))\n",
    "json_response['iss_position']['longitude']\n",
    "\n",
    "for key, values in json_response.items():\n",
    "    print(key, values)\n",
    "    if key == \"iss_position\":\n",
    "        for key1, value1 in values.items():\n",
    "            print(key1,value1)"
   ]
  },
  {
   "cell_type": "markdown",
   "metadata": {},
   "source": [
    "### Exception Handling\n",
    "\n",
    "Exceptions can be handled with try statement:\n",
    "The try blocklets you test a block of code for errors.\n",
    "The except block lets you handle the error.\n"
   ]
  },
  {
   "cell_type": "code",
   "execution_count": 3,
   "metadata": {},
   "outputs": [
    {
     "name": "stdout",
     "output_type": "stream",
     "text": [
      "Variable x is not defined !\n"
     ]
    }
   ],
   "source": [
    "try:\n",
    "    print(k)\n",
    "except NameError:\n",
    "    print(\"Variable x is not defined !\")\n",
    "except:\n",
    "    print(\"Something else went wrong...need to daignose!\")"
   ]
  },
  {
   "cell_type": "code",
   "execution_count": 4,
   "metadata": {},
   "outputs": [
    {
     "name": "stdout",
     "output_type": "stream",
     "text": [
      "division by zero\n"
     ]
    }
   ],
   "source": [
    "k=1\n",
    "try:\n",
    "    print(k/0)\n",
    "except NameError:\n",
    "    print(\"Variable x is not defined !\")\n",
    "except Exception as e:\n",
    "    print(e)"
   ]
  },
  {
   "cell_type": "code",
   "execution_count": 5,
   "metadata": {},
   "outputs": [
    {
     "name": "stdout",
     "output_type": "stream",
     "text": [
      "Something went wrong!\n",
      "The 'the try except' is finished\n"
     ]
    }
   ],
   "source": [
    "c=1\n",
    "try:\n",
    "    print(cc)\n",
    "    print(\"No Error!\")\n",
    "except:\n",
    "    print(\"Something went wrong!\")\n",
    "\n",
    "print(\"The 'the try except' is finished\")"
   ]
  },
  {
   "cell_type": "markdown",
   "metadata": {},
   "source": [
    "### OOPS Concepts\n"
   ]
  },
  {
   "cell_type": "markdown",
   "metadata": {},
   "source": []
  },
  {
   "cell_type": "markdown",
   "metadata": {},
   "source": []
  }
 ],
 "metadata": {
  "kernelspec": {
   "display_name": "Python 3.9.7 64-bit",
   "language": "python",
   "name": "python3"
  },
  "language_info": {
   "codemirror_mode": {
    "name": "ipython",
    "version": 3
   },
   "file_extension": ".py",
   "mimetype": "text/x-python",
   "name": "python",
   "nbconvert_exporter": "python",
   "pygments_lexer": "ipython3",
   "version": "3.9.7"
  },
  "orig_nbformat": 4,
  "vscode": {
   "interpreter": {
    "hash": "4cff3abf1678755e0069fd79299a535fe1940bcd71a6b01d9f4386710b2b163f"
   }
  }
 },
 "nbformat": 4,
 "nbformat_minor": 2
}
